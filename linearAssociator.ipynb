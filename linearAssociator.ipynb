{
 "cells": [
  {
   "cell_type": "code",
   "execution_count": 1,
   "id": "20e558a6",
   "metadata": {
    "scrolled": true
   },
   "outputs": [
    {
     "name": "stderr",
     "output_type": "stream",
     "text": [
      "/var/folders/rn/q0dr6r255bz6gwpsbkj4hwr40000gn/T/ipykernel_92577/2104114648.py:2: DeprecationWarning: \n",
      "Pyarrow will become a required dependency of pandas in the next major release of pandas (pandas 3.0),\n",
      "(to allow more performant data types, such as the Arrow string type, and better interoperability with other libraries)\n",
      "but was not found to be installed on your system.\n",
      "If this would cause problems for you,\n",
      "please provide us feedback at https://github.com/pandas-dev/pandas/issues/54466\n",
      "        \n",
      "  import pandas as pd\n"
     ]
    }
   ],
   "source": [
    "import numpy as np\n",
    "import pandas as pd\n",
    "from sklearn.model_selection import train_test_split\n",
    "import utils"
   ]
  },
  {
   "cell_type": "code",
   "execution_count": 2,
   "id": "e84cdc52",
   "metadata": {},
   "outputs": [],
   "source": [
    "def get_matrices(f,g):\n",
    "    if len(g.shape) == 1:\n",
    "        return np.outer(g,f)\n",
    "    else:\n",
    "        A = []\n",
    "        for i in range(g.shape[0]):\n",
    "            A.append(np.outer(g[i],f[i]))\n",
    "        return np.array(A)\n",
    "    \n",
    "def matrix_sum(Ai_s):\n",
    "    if len(Ai_s.shape) == 2:\n",
    "        return Ai_s\n",
    "    \n",
    "    A = np.array([])\n",
    "    for i, Ai in enumerate(Ai_s):\n",
    "        if i == 0:\n",
    "            A = Ai\n",
    "        else:\n",
    "            A = A + Ai\n",
    "    return A\n",
    "\n",
    "def matrix_vector_product(A,f):\n",
    "    if len(f.shape) == 1:\n",
    "        return np.dot(A,f)\n",
    "    g_prime = []\n",
    "    for fi in f:\n",
    "        g_prime.append(np.dot(A,fi))\n",
    "    return np.array(g_prime)\n",
    "\n",
    "def normalization(vector):\n",
    "    unit_vector = vector/np.sqrt(np.sum(vector**2))\n",
    "    return unit_vector\n",
    "\n",
    "def cosine(a, b):\n",
    "    dot_product = np.dot(a, b)\n",
    "\n",
    "    magnitude_a = np.linalg.norm(a)\n",
    "    magnitude_b = np.linalg.norm(b)\n",
    "\n",
    "    cosine_theta = dot_product / (magnitude_a * magnitude_b)\n",
    "    return cosine_theta\n",
    "\n",
    "def mean_length(vectors):\n",
    "    if len(vectors.shape) == 1:\n",
    "        return np.linalg.norm(vectors)\n",
    "    len_list = np.array([])\n",
    "    for vector in vectors:\n",
    "        len_list = np.hstack((len_list, np.linalg.norm(vector)))\n",
    "    \n",
    "    return np.mean(len_list)\n",
    "\n",
    "def get_accuracy(target,predicted):\n",
    "    correct = 0\n",
    "    for i in range(target.shape[0]):\n",
    "        if np.array_equal(target[i], predicted[i]):\n",
    "            correct+=1\n",
    "    accuracy = correct/target.shape[0]\n",
    "    return accuracy"
   ]
  },
  {
   "cell_type": "markdown",
   "id": "8f827200",
   "metadata": {},
   "source": [
    "This is the Widrow-Hoff algorithm, and it is used to train the model."
   ]
  },
  {
   "cell_type": "code",
   "execution_count": 3,
   "id": "e34a69bb",
   "metadata": {},
   "outputs": [],
   "source": [
    "def wh_algo(f, g, A):\n",
    "    epsilon = 1/1000\n",
    "    j = 0\n",
    "    not_converge = True\n",
    "    error_array = np.array([])\n",
    "    suffle = np.arange(f.shape[0])\n",
    "    while not_converge:\n",
    "        \n",
    "        if j%f.shape[0] == 0:\n",
    "            np.random.shuffle(suffle)\n",
    "        \n",
    "        if len(error_array) == 0:\n",
    "            prev_error = mean_length(g - matrix_vector_product(A,f))\n",
    "            error_array = np.append(error_array, prev_error)\n",
    "        \n",
    "        i = j%f.shape[0] \n",
    "        k = (1/np.linalg.norm(f[i])-epsilon)/(j+1)\n",
    "        g_prime_i = np.dot(A,f[i])\n",
    "        error = g[i] - g_prime_i\n",
    "        delta_A = np.multiply(k,np.outer(error,f[i]))\n",
    "       # print(delta_A)\n",
    "        A = A + delta_A\n",
    "        A_prime_f = matrix_vector_product(A,f)\n",
    "        \n",
    "        current_error = mean_length(g - A_prime_f)\n",
    "        error_array = np.append(error_array, current_error)\n",
    "        \n",
    "        if len(error_array)>50:\n",
    "            error_percent = np.abs(1-(error_array[-1]/error_array[-50]))\n",
    "            if error_percent < 0.05:\n",
    "                not_converge = False\n",
    "                \n",
    "        j = j+1\n",
    "        \n",
    "    return A"
   ]
  },
  {
   "cell_type": "markdown",
   "id": "4245161d",
   "metadata": {},
   "source": [
    "The function `figure_genre` interprets the predicted genre, and `get_genre_list` returns an array of genres.  "
   ]
  },
  {
   "cell_type": "code",
   "execution_count": 4,
   "id": "5c1449d3",
   "metadata": {},
   "outputs": [],
   "source": [
    "def figure_genre(A, f):\n",
    "    \n",
    "    classical = abs(cosine(np.dot(A,f), np.array([1,0])))\n",
    "    metal = abs(cosine(np.dot(A,f), np.array([0,1])))\n",
    "    \n",
    "    if classical > metal:\n",
    "        return \"classical\", np.array([1,0])\n",
    "    else:\n",
    "        return \"metal\", np.array([0,1])\n",
    "    \n",
    "def get_genre_list(A, X):\n",
    "    genre_list = []\n",
    "    for x in X:\n",
    "        genre, vector = figure_genre(A, x)\n",
    "        genre_list.append(vector)\n",
    "    genre_list = np.array(genre_list)\n",
    "    \n",
    "    return genre_list"
   ]
  },
  {
   "cell_type": "markdown",
   "id": "d773ded4",
   "metadata": {},
   "source": [
    "# Data Processing"
   ]
  },
  {
   "cell_type": "code",
   "execution_count": 5,
   "id": "9d54ae89",
   "metadata": {
    "scrolled": false
   },
   "outputs": [
    {
     "data": {
      "text/html": [
       "<div>\n",
       "<style scoped>\n",
       "    .dataframe tbody tr th:only-of-type {\n",
       "        vertical-align: middle;\n",
       "    }\n",
       "\n",
       "    .dataframe tbody tr th {\n",
       "        vertical-align: top;\n",
       "    }\n",
       "\n",
       "    .dataframe thead th {\n",
       "        text-align: right;\n",
       "    }\n",
       "</style>\n",
       "<table border=\"1\" class=\"dataframe\">\n",
       "  <thead>\n",
       "    <tr style=\"text-align: right;\">\n",
       "      <th></th>\n",
       "      <th>filename</th>\n",
       "      <th>length</th>\n",
       "      <th>chroma_stft_mean</th>\n",
       "      <th>chroma_stft_var</th>\n",
       "      <th>rms_mean</th>\n",
       "      <th>rms_var</th>\n",
       "      <th>spectral_centroid_mean</th>\n",
       "      <th>spectral_centroid_var</th>\n",
       "      <th>spectral_bandwidth_mean</th>\n",
       "      <th>spectral_bandwidth_var</th>\n",
       "      <th>...</th>\n",
       "      <th>mfcc16_var</th>\n",
       "      <th>mfcc17_mean</th>\n",
       "      <th>mfcc17_var</th>\n",
       "      <th>mfcc18_mean</th>\n",
       "      <th>mfcc18_var</th>\n",
       "      <th>mfcc19_mean</th>\n",
       "      <th>mfcc19_var</th>\n",
       "      <th>mfcc20_mean</th>\n",
       "      <th>mfcc20_var</th>\n",
       "      <th>label</th>\n",
       "    </tr>\n",
       "  </thead>\n",
       "  <tbody>\n",
       "    <tr>\n",
       "      <th>0</th>\n",
       "      <td>blues.00000.0.wav</td>\n",
       "      <td>66149</td>\n",
       "      <td>0.335406</td>\n",
       "      <td>0.091048</td>\n",
       "      <td>0.130405</td>\n",
       "      <td>0.003521</td>\n",
       "      <td>1773.065032</td>\n",
       "      <td>167541.630869</td>\n",
       "      <td>1972.744388</td>\n",
       "      <td>117335.771563</td>\n",
       "      <td>...</td>\n",
       "      <td>39.687145</td>\n",
       "      <td>-3.241280</td>\n",
       "      <td>36.488243</td>\n",
       "      <td>0.722209</td>\n",
       "      <td>38.099152</td>\n",
       "      <td>-5.050335</td>\n",
       "      <td>33.618073</td>\n",
       "      <td>-0.243027</td>\n",
       "      <td>43.771767</td>\n",
       "      <td>blues</td>\n",
       "    </tr>\n",
       "    <tr>\n",
       "      <th>1</th>\n",
       "      <td>blues.00000.1.wav</td>\n",
       "      <td>66149</td>\n",
       "      <td>0.343065</td>\n",
       "      <td>0.086147</td>\n",
       "      <td>0.112699</td>\n",
       "      <td>0.001450</td>\n",
       "      <td>1816.693777</td>\n",
       "      <td>90525.690866</td>\n",
       "      <td>2010.051501</td>\n",
       "      <td>65671.875673</td>\n",
       "      <td>...</td>\n",
       "      <td>64.748276</td>\n",
       "      <td>-6.055294</td>\n",
       "      <td>40.677654</td>\n",
       "      <td>0.159015</td>\n",
       "      <td>51.264091</td>\n",
       "      <td>-2.837699</td>\n",
       "      <td>97.030830</td>\n",
       "      <td>5.784063</td>\n",
       "      <td>59.943081</td>\n",
       "      <td>blues</td>\n",
       "    </tr>\n",
       "    <tr>\n",
       "      <th>2</th>\n",
       "      <td>blues.00000.2.wav</td>\n",
       "      <td>66149</td>\n",
       "      <td>0.346815</td>\n",
       "      <td>0.092243</td>\n",
       "      <td>0.132003</td>\n",
       "      <td>0.004620</td>\n",
       "      <td>1788.539719</td>\n",
       "      <td>111407.437613</td>\n",
       "      <td>2084.565132</td>\n",
       "      <td>75124.921716</td>\n",
       "      <td>...</td>\n",
       "      <td>67.336563</td>\n",
       "      <td>-1.768610</td>\n",
       "      <td>28.348579</td>\n",
       "      <td>2.378768</td>\n",
       "      <td>45.717648</td>\n",
       "      <td>-1.938424</td>\n",
       "      <td>53.050835</td>\n",
       "      <td>2.517375</td>\n",
       "      <td>33.105122</td>\n",
       "      <td>blues</td>\n",
       "    </tr>\n",
       "    <tr>\n",
       "      <th>3</th>\n",
       "      <td>blues.00000.3.wav</td>\n",
       "      <td>66149</td>\n",
       "      <td>0.363639</td>\n",
       "      <td>0.086856</td>\n",
       "      <td>0.132565</td>\n",
       "      <td>0.002448</td>\n",
       "      <td>1655.289045</td>\n",
       "      <td>111952.284517</td>\n",
       "      <td>1960.039988</td>\n",
       "      <td>82913.639269</td>\n",
       "      <td>...</td>\n",
       "      <td>47.739452</td>\n",
       "      <td>-3.841155</td>\n",
       "      <td>28.337118</td>\n",
       "      <td>1.218588</td>\n",
       "      <td>34.770935</td>\n",
       "      <td>-3.580352</td>\n",
       "      <td>50.836224</td>\n",
       "      <td>3.630866</td>\n",
       "      <td>32.023678</td>\n",
       "      <td>blues</td>\n",
       "    </tr>\n",
       "    <tr>\n",
       "      <th>4</th>\n",
       "      <td>blues.00000.4.wav</td>\n",
       "      <td>66149</td>\n",
       "      <td>0.335579</td>\n",
       "      <td>0.088129</td>\n",
       "      <td>0.143289</td>\n",
       "      <td>0.001701</td>\n",
       "      <td>1630.656199</td>\n",
       "      <td>79667.267654</td>\n",
       "      <td>1948.503884</td>\n",
       "      <td>60204.020268</td>\n",
       "      <td>...</td>\n",
       "      <td>30.336359</td>\n",
       "      <td>0.664582</td>\n",
       "      <td>45.880913</td>\n",
       "      <td>1.689446</td>\n",
       "      <td>51.363583</td>\n",
       "      <td>-3.392489</td>\n",
       "      <td>26.738789</td>\n",
       "      <td>0.536961</td>\n",
       "      <td>29.146694</td>\n",
       "      <td>blues</td>\n",
       "    </tr>\n",
       "    <tr>\n",
       "      <th>...</th>\n",
       "      <td>...</td>\n",
       "      <td>...</td>\n",
       "      <td>...</td>\n",
       "      <td>...</td>\n",
       "      <td>...</td>\n",
       "      <td>...</td>\n",
       "      <td>...</td>\n",
       "      <td>...</td>\n",
       "      <td>...</td>\n",
       "      <td>...</td>\n",
       "      <td>...</td>\n",
       "      <td>...</td>\n",
       "      <td>...</td>\n",
       "      <td>...</td>\n",
       "      <td>...</td>\n",
       "      <td>...</td>\n",
       "      <td>...</td>\n",
       "      <td>...</td>\n",
       "      <td>...</td>\n",
       "      <td>...</td>\n",
       "      <td>...</td>\n",
       "    </tr>\n",
       "    <tr>\n",
       "      <th>9985</th>\n",
       "      <td>rock.00099.5.wav</td>\n",
       "      <td>66149</td>\n",
       "      <td>0.349126</td>\n",
       "      <td>0.080515</td>\n",
       "      <td>0.050019</td>\n",
       "      <td>0.000097</td>\n",
       "      <td>1499.083005</td>\n",
       "      <td>164266.886443</td>\n",
       "      <td>1718.707215</td>\n",
       "      <td>85931.574523</td>\n",
       "      <td>...</td>\n",
       "      <td>42.485981</td>\n",
       "      <td>-9.094270</td>\n",
       "      <td>38.326839</td>\n",
       "      <td>-4.246976</td>\n",
       "      <td>31.049839</td>\n",
       "      <td>-5.625813</td>\n",
       "      <td>48.804092</td>\n",
       "      <td>1.818823</td>\n",
       "      <td>38.966969</td>\n",
       "      <td>rock</td>\n",
       "    </tr>\n",
       "    <tr>\n",
       "      <th>9986</th>\n",
       "      <td>rock.00099.6.wav</td>\n",
       "      <td>66149</td>\n",
       "      <td>0.372564</td>\n",
       "      <td>0.082626</td>\n",
       "      <td>0.057897</td>\n",
       "      <td>0.000088</td>\n",
       "      <td>1847.965128</td>\n",
       "      <td>281054.935973</td>\n",
       "      <td>1906.468492</td>\n",
       "      <td>99727.037054</td>\n",
       "      <td>...</td>\n",
       "      <td>32.415203</td>\n",
       "      <td>-12.375726</td>\n",
       "      <td>66.418587</td>\n",
       "      <td>-3.081278</td>\n",
       "      <td>54.414265</td>\n",
       "      <td>-11.960546</td>\n",
       "      <td>63.452255</td>\n",
       "      <td>0.428857</td>\n",
       "      <td>18.697033</td>\n",
       "      <td>rock</td>\n",
       "    </tr>\n",
       "    <tr>\n",
       "      <th>9987</th>\n",
       "      <td>rock.00099.7.wav</td>\n",
       "      <td>66149</td>\n",
       "      <td>0.347481</td>\n",
       "      <td>0.089019</td>\n",
       "      <td>0.052403</td>\n",
       "      <td>0.000701</td>\n",
       "      <td>1346.157659</td>\n",
       "      <td>662956.246325</td>\n",
       "      <td>1561.859087</td>\n",
       "      <td>138762.841945</td>\n",
       "      <td>...</td>\n",
       "      <td>78.228149</td>\n",
       "      <td>-2.524483</td>\n",
       "      <td>21.778994</td>\n",
       "      <td>4.809936</td>\n",
       "      <td>25.980829</td>\n",
       "      <td>1.775686</td>\n",
       "      <td>48.582378</td>\n",
       "      <td>-0.299545</td>\n",
       "      <td>41.586990</td>\n",
       "      <td>rock</td>\n",
       "    </tr>\n",
       "    <tr>\n",
       "      <th>9988</th>\n",
       "      <td>rock.00099.8.wav</td>\n",
       "      <td>66149</td>\n",
       "      <td>0.387527</td>\n",
       "      <td>0.084815</td>\n",
       "      <td>0.066430</td>\n",
       "      <td>0.000320</td>\n",
       "      <td>2084.515327</td>\n",
       "      <td>203891.039161</td>\n",
       "      <td>2018.366254</td>\n",
       "      <td>22860.992562</td>\n",
       "      <td>...</td>\n",
       "      <td>28.323744</td>\n",
       "      <td>-5.363541</td>\n",
       "      <td>17.209942</td>\n",
       "      <td>6.462601</td>\n",
       "      <td>21.442928</td>\n",
       "      <td>2.354765</td>\n",
       "      <td>24.843613</td>\n",
       "      <td>0.675824</td>\n",
       "      <td>12.787750</td>\n",
       "      <td>rock</td>\n",
       "    </tr>\n",
       "    <tr>\n",
       "      <th>9989</th>\n",
       "      <td>rock.00099.9.wav</td>\n",
       "      <td>66149</td>\n",
       "      <td>0.369293</td>\n",
       "      <td>0.086759</td>\n",
       "      <td>0.050524</td>\n",
       "      <td>0.000067</td>\n",
       "      <td>1634.330126</td>\n",
       "      <td>411429.169769</td>\n",
       "      <td>1867.422378</td>\n",
       "      <td>119722.211518</td>\n",
       "      <td>...</td>\n",
       "      <td>38.801735</td>\n",
       "      <td>-11.598399</td>\n",
       "      <td>58.983097</td>\n",
       "      <td>-0.178517</td>\n",
       "      <td>55.761299</td>\n",
       "      <td>-6.903252</td>\n",
       "      <td>39.485901</td>\n",
       "      <td>-3.412534</td>\n",
       "      <td>31.727489</td>\n",
       "      <td>rock</td>\n",
       "    </tr>\n",
       "  </tbody>\n",
       "</table>\n",
       "<p>9990 rows × 60 columns</p>\n",
       "</div>"
      ],
      "text/plain": [
       "               filename  length  chroma_stft_mean  chroma_stft_var  rms_mean  \\\n",
       "0     blues.00000.0.wav   66149          0.335406         0.091048  0.130405   \n",
       "1     blues.00000.1.wav   66149          0.343065         0.086147  0.112699   \n",
       "2     blues.00000.2.wav   66149          0.346815         0.092243  0.132003   \n",
       "3     blues.00000.3.wav   66149          0.363639         0.086856  0.132565   \n",
       "4     blues.00000.4.wav   66149          0.335579         0.088129  0.143289   \n",
       "...                 ...     ...               ...              ...       ...   \n",
       "9985   rock.00099.5.wav   66149          0.349126         0.080515  0.050019   \n",
       "9986   rock.00099.6.wav   66149          0.372564         0.082626  0.057897   \n",
       "9987   rock.00099.7.wav   66149          0.347481         0.089019  0.052403   \n",
       "9988   rock.00099.8.wav   66149          0.387527         0.084815  0.066430   \n",
       "9989   rock.00099.9.wav   66149          0.369293         0.086759  0.050524   \n",
       "\n",
       "       rms_var  spectral_centroid_mean  spectral_centroid_var  \\\n",
       "0     0.003521             1773.065032          167541.630869   \n",
       "1     0.001450             1816.693777           90525.690866   \n",
       "2     0.004620             1788.539719          111407.437613   \n",
       "3     0.002448             1655.289045          111952.284517   \n",
       "4     0.001701             1630.656199           79667.267654   \n",
       "...        ...                     ...                    ...   \n",
       "9985  0.000097             1499.083005          164266.886443   \n",
       "9986  0.000088             1847.965128          281054.935973   \n",
       "9987  0.000701             1346.157659          662956.246325   \n",
       "9988  0.000320             2084.515327          203891.039161   \n",
       "9989  0.000067             1634.330126          411429.169769   \n",
       "\n",
       "      spectral_bandwidth_mean  spectral_bandwidth_var  ...  mfcc16_var  \\\n",
       "0                 1972.744388           117335.771563  ...   39.687145   \n",
       "1                 2010.051501            65671.875673  ...   64.748276   \n",
       "2                 2084.565132            75124.921716  ...   67.336563   \n",
       "3                 1960.039988            82913.639269  ...   47.739452   \n",
       "4                 1948.503884            60204.020268  ...   30.336359   \n",
       "...                       ...                     ...  ...         ...   \n",
       "9985              1718.707215            85931.574523  ...   42.485981   \n",
       "9986              1906.468492            99727.037054  ...   32.415203   \n",
       "9987              1561.859087           138762.841945  ...   78.228149   \n",
       "9988              2018.366254            22860.992562  ...   28.323744   \n",
       "9989              1867.422378           119722.211518  ...   38.801735   \n",
       "\n",
       "      mfcc17_mean  mfcc17_var  mfcc18_mean  mfcc18_var  mfcc19_mean  \\\n",
       "0       -3.241280   36.488243     0.722209   38.099152    -5.050335   \n",
       "1       -6.055294   40.677654     0.159015   51.264091    -2.837699   \n",
       "2       -1.768610   28.348579     2.378768   45.717648    -1.938424   \n",
       "3       -3.841155   28.337118     1.218588   34.770935    -3.580352   \n",
       "4        0.664582   45.880913     1.689446   51.363583    -3.392489   \n",
       "...           ...         ...          ...         ...          ...   \n",
       "9985    -9.094270   38.326839    -4.246976   31.049839    -5.625813   \n",
       "9986   -12.375726   66.418587    -3.081278   54.414265   -11.960546   \n",
       "9987    -2.524483   21.778994     4.809936   25.980829     1.775686   \n",
       "9988    -5.363541   17.209942     6.462601   21.442928     2.354765   \n",
       "9989   -11.598399   58.983097    -0.178517   55.761299    -6.903252   \n",
       "\n",
       "      mfcc19_var  mfcc20_mean  mfcc20_var  label  \n",
       "0      33.618073    -0.243027   43.771767  blues  \n",
       "1      97.030830     5.784063   59.943081  blues  \n",
       "2      53.050835     2.517375   33.105122  blues  \n",
       "3      50.836224     3.630866   32.023678  blues  \n",
       "4      26.738789     0.536961   29.146694  blues  \n",
       "...          ...          ...         ...    ...  \n",
       "9985   48.804092     1.818823   38.966969   rock  \n",
       "9986   63.452255     0.428857   18.697033   rock  \n",
       "9987   48.582378    -0.299545   41.586990   rock  \n",
       "9988   24.843613     0.675824   12.787750   rock  \n",
       "9989   39.485901    -3.412534   31.727489   rock  \n",
       "\n",
       "[9990 rows x 60 columns]"
      ]
     },
     "execution_count": 5,
     "metadata": {},
     "output_type": "execute_result"
    }
   ],
   "source": [
    "df = pd.read_csv(\"./data/features_3_sec.csv\")\n",
    "df"
   ]
  },
  {
   "cell_type": "code",
   "execution_count": 6,
   "id": "4d5d9ae5",
   "metadata": {
    "scrolled": true
   },
   "outputs": [],
   "source": [
    "# Data cleaning\n",
    "df = df.drop(columns=[\"length\", \"filename\"])"
   ]
  },
  {
   "cell_type": "code",
   "execution_count": 7,
   "id": "ab338c6a",
   "metadata": {},
   "outputs": [],
   "source": [
    "# Select only the metal and classical genres\n",
    "filtered_df = df[df[\"label\"].isin([\"metal\", \"classical\"])]\n",
    "filtered_df.reset_index(inplace=True, drop = True)"
   ]
  },
  {
   "cell_type": "code",
   "execution_count": 8,
   "id": "85be8ed1",
   "metadata": {},
   "outputs": [
    {
     "data": {
      "text/plain": [
       "(998, 58)"
      ]
     },
     "execution_count": 8,
     "metadata": {},
     "output_type": "execute_result"
    }
   ],
   "source": [
    "filtered_df[filtered_df[\"label\"] == \"classical\"].shape"
   ]
  },
  {
   "cell_type": "code",
   "execution_count": 9,
   "id": "030fe13f",
   "metadata": {},
   "outputs": [
    {
     "data": {
      "text/plain": [
       "(1000, 58)"
      ]
     },
     "execution_count": 9,
     "metadata": {},
     "output_type": "execute_result"
    }
   ],
   "source": [
    "filtered_df[filtered_df[\"label\"] == \"metal\"].shape"
   ]
  },
  {
   "cell_type": "markdown",
   "id": "1a765d23",
   "metadata": {},
   "source": [
    "There are classical 998 samples and 1000 samples for metal."
   ]
  },
  {
   "cell_type": "markdown",
   "id": "7ede4ebe",
   "metadata": {},
   "source": [
    "# Feature Selection"
   ]
  },
  {
   "cell_type": "code",
   "execution_count": 10,
   "id": "c919587b",
   "metadata": {},
   "outputs": [
    {
     "data": {
      "text/html": [
       "<div>\n",
       "<style scoped>\n",
       "    .dataframe tbody tr th:only-of-type {\n",
       "        vertical-align: middle;\n",
       "    }\n",
       "\n",
       "    .dataframe tbody tr th {\n",
       "        vertical-align: top;\n",
       "    }\n",
       "\n",
       "    .dataframe thead th {\n",
       "        text-align: right;\n",
       "    }\n",
       "</style>\n",
       "<table border=\"1\" class=\"dataframe\">\n",
       "  <thead>\n",
       "    <tr style=\"text-align: right;\">\n",
       "      <th></th>\n",
       "      <th>chroma_stft_mean</th>\n",
       "      <th>chroma_stft_var</th>\n",
       "      <th>rms_mean</th>\n",
       "      <th>rms_var</th>\n",
       "      <th>spectral_centroid_mean</th>\n",
       "      <th>spectral_centroid_var</th>\n",
       "      <th>spectral_bandwidth_mean</th>\n",
       "      <th>spectral_bandwidth_var</th>\n",
       "      <th>rolloff_mean</th>\n",
       "      <th>rolloff_var</th>\n",
       "      <th>...</th>\n",
       "      <th>mfcc16_mean</th>\n",
       "      <th>mfcc16_var</th>\n",
       "      <th>mfcc17_mean</th>\n",
       "      <th>mfcc17_var</th>\n",
       "      <th>mfcc18_mean</th>\n",
       "      <th>mfcc18_var</th>\n",
       "      <th>mfcc19_mean</th>\n",
       "      <th>mfcc19_var</th>\n",
       "      <th>mfcc20_mean</th>\n",
       "      <th>mfcc20_var</th>\n",
       "    </tr>\n",
       "    <tr>\n",
       "      <th>label</th>\n",
       "      <th></th>\n",
       "      <th></th>\n",
       "      <th></th>\n",
       "      <th></th>\n",
       "      <th></th>\n",
       "      <th></th>\n",
       "      <th></th>\n",
       "      <th></th>\n",
       "      <th></th>\n",
       "      <th></th>\n",
       "      <th></th>\n",
       "      <th></th>\n",
       "      <th></th>\n",
       "      <th></th>\n",
       "      <th></th>\n",
       "      <th></th>\n",
       "      <th></th>\n",
       "      <th></th>\n",
       "      <th></th>\n",
       "      <th></th>\n",
       "      <th></th>\n",
       "    </tr>\n",
       "  </thead>\n",
       "  <tbody>\n",
       "    <tr>\n",
       "      <th>classical</th>\n",
       "      <td>0.264508</td>\n",
       "      <td>0.083363</td>\n",
       "      <td>0.042812</td>\n",
       "      <td>0.000403</td>\n",
       "      <td>1351.320102</td>\n",
       "      <td>70830.230588</td>\n",
       "      <td>1519.531577</td>\n",
       "      <td>47788.745702</td>\n",
       "      <td>2475.817622</td>\n",
       "      <td>363544.530781</td>\n",
       "      <td>...</td>\n",
       "      <td>1.520216</td>\n",
       "      <td>53.650671</td>\n",
       "      <td>-0.181774</td>\n",
       "      <td>55.738733</td>\n",
       "      <td>0.828762</td>\n",
       "      <td>57.036661</td>\n",
       "      <td>-1.210227</td>\n",
       "      <td>65.911659</td>\n",
       "      <td>-0.980228</td>\n",
       "      <td>77.626622</td>\n",
       "    </tr>\n",
       "    <tr>\n",
       "      <th>metal</th>\n",
       "      <td>0.480162</td>\n",
       "      <td>0.072370</td>\n",
       "      <td>0.153454</td>\n",
       "      <td>0.001060</td>\n",
       "      <td>2600.881732</td>\n",
       "      <td>183577.335324</td>\n",
       "      <td>2242.819811</td>\n",
       "      <td>58359.357255</td>\n",
       "      <td>5123.753216</td>\n",
       "      <td>654842.379673</td>\n",
       "      <td>...</td>\n",
       "      <td>5.801267</td>\n",
       "      <td>34.106649</td>\n",
       "      <td>-8.284396</td>\n",
       "      <td>35.894936</td>\n",
       "      <td>3.206265</td>\n",
       "      <td>33.639106</td>\n",
       "      <td>-5.025991</td>\n",
       "      <td>34.254769</td>\n",
       "      <td>1.561031</td>\n",
       "      <td>30.856026</td>\n",
       "    </tr>\n",
       "  </tbody>\n",
       "</table>\n",
       "<p>2 rows × 57 columns</p>\n",
       "</div>"
      ],
      "text/plain": [
       "           chroma_stft_mean  chroma_stft_var  rms_mean   rms_var  \\\n",
       "label                                                              \n",
       "classical          0.264508         0.083363  0.042812  0.000403   \n",
       "metal              0.480162         0.072370  0.153454  0.001060   \n",
       "\n",
       "           spectral_centroid_mean  spectral_centroid_var  \\\n",
       "label                                                      \n",
       "classical             1351.320102           70830.230588   \n",
       "metal                 2600.881732          183577.335324   \n",
       "\n",
       "           spectral_bandwidth_mean  spectral_bandwidth_var  rolloff_mean  \\\n",
       "label                                                                      \n",
       "classical              1519.531577            47788.745702   2475.817622   \n",
       "metal                  2242.819811            58359.357255   5123.753216   \n",
       "\n",
       "             rolloff_var  ...  mfcc16_mean  mfcc16_var  mfcc17_mean  \\\n",
       "label                     ...                                         \n",
       "classical  363544.530781  ...     1.520216   53.650671    -0.181774   \n",
       "metal      654842.379673  ...     5.801267   34.106649    -8.284396   \n",
       "\n",
       "           mfcc17_var  mfcc18_mean  mfcc18_var  mfcc19_mean  mfcc19_var  \\\n",
       "label                                                                     \n",
       "classical   55.738733     0.828762   57.036661    -1.210227   65.911659   \n",
       "metal       35.894936     3.206265   33.639106    -5.025991   34.254769   \n",
       "\n",
       "           mfcc20_mean  mfcc20_var  \n",
       "label                               \n",
       "classical    -0.980228   77.626622  \n",
       "metal         1.561031   30.856026  \n",
       "\n",
       "[2 rows x 57 columns]"
      ]
     },
     "execution_count": 10,
     "metadata": {},
     "output_type": "execute_result"
    }
   ],
   "source": [
    "# Get the mean of each feature\n",
    "filtered_average_group = filtered_df.groupby('label').mean()\n",
    "filtered_average_group"
   ]
  },
  {
   "cell_type": "markdown",
   "id": "5d95ed17",
   "metadata": {},
   "source": [
    "We want to train the linear associator with the most distinct values between the two genres. To do this, we first get the variance-to-mean ratio (coefficient of variation) between classical and metal for each feature and extract 10 features with the largest values."
   ]
  },
  {
   "cell_type": "code",
   "execution_count": 11,
   "id": "60c137b6",
   "metadata": {},
   "outputs": [
    {
     "name": "stdout",
     "output_type": "stream",
     "text": [
      "Feature with the largest percentage variance:\n",
      "mfcc20_mean      618.777666\n",
      "mfcc14_mean      137.577395\n",
      "mfcc17_mean      135.348546\n",
      "mfcc12_mean      132.077254\n",
      "perceptr_var     131.637828\n",
      "mfcc8_mean       126.376826\n",
      "mfcc15_mean      111.463783\n",
      "mfcc10_mean      104.197285\n",
      "mfcc6_mean        99.039036\n",
      "perceptr_mean     97.946495\n",
      "dtype: float64\n"
     ]
    }
   ],
   "source": [
    "std = filtered_average_group.std()\n",
    "\n",
    "# Calculate the percentage variance for each feature\n",
    "percentage_std = abs(std / filtered_average_group.mean()) * 100\n",
    "\n",
    "# Find the feature with the largest percentage variance\n",
    "largest_percentage_std_feature = percentage_std.nlargest(10)\n",
    "largest_percentage_std_value = percentage_std.max()\n",
    "\n",
    "print(\"Feature with the largest percentage variance:\")\n",
    "print(largest_percentage_std_feature)"
   ]
  },
  {
   "cell_type": "markdown",
   "id": "e6c3190c",
   "metadata": {},
   "source": [
    "Next, we examine if the means are separated enough by inspecting the means and the standard deviations of these ten features to make sure the genres don't overlap much."
   ]
  },
  {
   "cell_type": "code",
   "execution_count": 12,
   "id": "9ba9ce35",
   "metadata": {
    "scrolled": true
   },
   "outputs": [
    {
     "name": "stdout",
     "output_type": "stream",
     "text": [
      "classical: mfcc20_mean\n",
      "Std: 7.124793816951474\n",
      "Mean: -0.9802276700481265 \n",
      "\n",
      "metal: mfcc20_mean\n",
      "Std: 4.268618542227908\n",
      "Mean: 1.5610312489899807 \n",
      "\n",
      "classical: mfcc14_mean\n",
      "Std: 7.330789611008621\n",
      "Mean: 0.09491106642891685 \n",
      "\n",
      "metal: mfcc14_mean\n",
      "Std: 4.715901592486571\n",
      "Mean: 6.888745495715702 \n",
      "\n",
      "classical: mfcc17_mean\n",
      "Std: 6.161585740699798\n",
      "Mean: -0.18177397555871336 \n",
      "\n",
      "metal: mfcc17_mean\n",
      "Std: 3.498086617114736\n",
      "Mean: -8.284395897746085 \n",
      "\n",
      "classical: mfcc12_mean\n",
      "Std: 8.272072056731558\n",
      "Mean: 0.46562456409032793 \n",
      "\n",
      "metal: mfcc12_mean\n",
      "Std: 4.4801037251050415\n",
      "Mean: 13.628667895764112 \n",
      "\n",
      "classical: perceptr_var\n",
      "Std: 0.000540496036199451\n",
      "Mean: 0.0002116816999566407 \n",
      "\n",
      "metal: perceptr_var\n",
      "Std: 0.004543233171184228\n",
      "Mean: 0.0059080561198497404 \n",
      "\n",
      "classical: mfcc8_mean\n",
      "Std: 11.399821130209341\n",
      "Mean: 1.2995191599080949 \n",
      "\n",
      "metal: mfcc8_mean\n",
      "Std: 6.04771730127954\n",
      "Mean: 23.131920550107957 \n",
      "\n",
      "classical: mfcc15_mean\n",
      "Std: 6.316346617162824\n",
      "Mean: -1.08080814355137 \n",
      "\n",
      "metal: mfcc15_mean\n",
      "Std: 3.9632423539752457\n",
      "Mean: -9.123579984275624 \n",
      "\n",
      "classical: mfcc10_mean\n",
      "Std: 10.401826633023662\n",
      "Mean: 2.5970484531561064 \n",
      "\n",
      "metal: mfcc10_mean\n",
      "Std: 4.783187433718985\n",
      "Mean: 17.136317615509032 \n",
      "\n",
      "classical: mfcc6_mean\n",
      "Std: 10.392512277846219\n",
      "Mean: 4.6490173357145075 \n",
      "\n",
      "metal: mfcc6_mean\n",
      "Std: 7.124326861222586\n",
      "Mean: 26.376671674609184 \n",
      "\n",
      "classical: perceptr_mean\n",
      "Std: 0.00042680416779699817\n",
      "Mean: -0.0001799188839341975 \n",
      "\n",
      "metal: perceptr_mean\n",
      "Std: 0.0014708716346487798\n",
      "Mean: -0.0009906137717357838 \n",
      "\n"
     ]
    }
   ],
   "source": [
    "test_labels = [\"classical\", \"metal\"]\n",
    "for feature in largest_percentage_std_feature.keys():\n",
    "    for test_label in test_labels:\n",
    "        print(f\"{test_label}: {feature}\")\n",
    "        print(\"Std:\", df[df['label']==test_label][feature].std())\n",
    "        print(\"Mean:\", df[df['label']==test_label][feature].mean(),\"\\n\")\n",
    "        #print(\"Ratio:\", df[df['label']==test_label][feature].std()/df[df['label']==test_label][feature].mean(),\"\\n\")"
   ]
  },
  {
   "cell_type": "markdown",
   "id": "825403c0",
   "metadata": {},
   "source": [
    "We chose to use these features: mfcc12_mean, mfcc17_mean, mfcc8_mean, perceptr_var, mfcc15_mean, and mfcc10_mean."
   ]
  },
  {
   "cell_type": "code",
   "execution_count": 13,
   "id": "d42fc165",
   "metadata": {
    "scrolled": true
   },
   "outputs": [],
   "source": [
    "selected_features = [\"mfcc12_mean\",\n",
    "                     \"mfcc17_mean\",\n",
    "                     \"mfcc8_mean\",\n",
    "                     \"mfcc15_mean\",\n",
    "                     \"mfcc10_mean\"]\n",
    "\n",
    "filtered_features = filtered_df[selected_features]\n",
    "\n",
    "filtered_features.reset_index(inplace=True, drop = True)"
   ]
  },
  {
   "cell_type": "code",
   "execution_count": 14,
   "id": "09f3e59a",
   "metadata": {},
   "outputs": [],
   "source": [
    "# Making the representations for target genres \n",
    "classical_label = [[1,0]]*998\n",
    "metal_label = [[0,1]]*1000\n",
    "label_representaion = np.array(classical_label + metal_label)"
   ]
  },
  {
   "cell_type": "code",
   "execution_count": 15,
   "id": "95c406cf",
   "metadata": {
    "scrolled": true
   },
   "outputs": [
    {
     "name": "stdout",
     "output_type": "stream",
     "text": [
      "(1998, 2)\n",
      "(1998, 5)\n"
     ]
    }
   ],
   "source": [
    "print(label_representaion.shape)\n",
    "print(filtered_features.shape)"
   ]
  },
  {
   "cell_type": "code",
   "execution_count": 16,
   "id": "1d193edb",
   "metadata": {},
   "outputs": [],
   "source": [
    "# Creating Train/Test Split, and we use 40 data to train the model\n",
    "X_train, X_test, y_train, y_test = train_test_split(filtered_features, \n",
    "                                                    label_representaion, \n",
    "                                                    test_size=0.9795, \n",
    "                                                    random_state = 79)\n"
   ]
  },
  {
   "cell_type": "code",
   "execution_count": 17,
   "id": "fb3e96a9",
   "metadata": {},
   "outputs": [],
   "source": [
    "# Normalize train data\n",
    "normalized_X_train = []\n",
    "for X in X_train.values:\n",
    "    normalized_X = normalization(X)\n",
    "    normalized_X_train.append(normalized_X)\n",
    "normalized_X_train = np.array(normalized_X_train)\n",
    "\n",
    "normalized_y_train = []\n",
    "for y in y_train:\n",
    "    normalized_y = normalization(y)\n",
    "    normalized_y_train.append(normalized_y)\n",
    "normalized_y_train = np.array(normalized_y_train)"
   ]
  },
  {
   "cell_type": "code",
   "execution_count": 18,
   "id": "840d637e",
   "metadata": {},
   "outputs": [
    {
     "data": {
      "text/plain": [
       "(40, 5)"
      ]
     },
     "execution_count": 18,
     "metadata": {},
     "output_type": "execute_result"
    }
   ],
   "source": [
    "X_train.shape"
   ]
  },
  {
   "cell_type": "code",
   "execution_count": 19,
   "id": "46d900de",
   "metadata": {
    "scrolled": true
   },
   "outputs": [
    {
     "data": {
      "text/plain": [
       "(1958, 5)"
      ]
     },
     "execution_count": 19,
     "metadata": {},
     "output_type": "execute_result"
    }
   ],
   "source": [
    "X_test.shape"
   ]
  },
  {
   "cell_type": "markdown",
   "id": "dc265ad0",
   "metadata": {},
   "source": [
    "# Model Training"
   ]
  },
  {
   "cell_type": "code",
   "execution_count": 20,
   "id": "5bf2a6f6",
   "metadata": {},
   "outputs": [
    {
     "data": {
      "text/plain": [
       "(2, 5)"
      ]
     },
     "execution_count": 20,
     "metadata": {},
     "output_type": "execute_result"
    }
   ],
   "source": [
    "# Obtain the initial weight matrix\n",
    "Ai_s = get_matrices(normalized_X_train, y_train)\n",
    "A = matrix_sum(Ai_s)\n",
    "A.shape"
   ]
  },
  {
   "cell_type": "code",
   "execution_count": 21,
   "id": "24201393",
   "metadata": {
    "scrolled": true
   },
   "outputs": [],
   "source": [
    "trained_A = wh_algo(normalized_X_train, y_train, A)"
   ]
  },
  {
   "cell_type": "code",
   "execution_count": 22,
   "id": "1a526afc",
   "metadata": {
    "scrolled": true
   },
   "outputs": [],
   "source": [
    "# Interpret the predicted outcomes to genres\n",
    "pre_train_genre = get_genre_list(A, normalized_X_train)\n",
    "trained_genre = get_genre_list(trained_A, normalized_X_train)\n",
    "test_genre = get_genre_list(trained_A, X_test.values)"
   ]
  },
  {
   "cell_type": "code",
   "execution_count": 23,
   "id": "b9a45bc5",
   "metadata": {},
   "outputs": [
    {
     "data": {
      "text/plain": [
       "0.55"
      ]
     },
     "execution_count": 23,
     "metadata": {},
     "output_type": "execute_result"
    }
   ],
   "source": [
    "# Pre-train accuracy\n",
    "get_accuracy(y_train, pre_train_genre)"
   ]
  },
  {
   "cell_type": "code",
   "execution_count": 24,
   "id": "5adb6f5c",
   "metadata": {},
   "outputs": [
    {
     "data": {
      "text/plain": [
       "0.875"
      ]
     },
     "execution_count": 24,
     "metadata": {},
     "output_type": "execute_result"
    }
   ],
   "source": [
    "# Trained accuracy\n",
    "get_accuracy(y_train, trained_genre)"
   ]
  },
  {
   "cell_type": "code",
   "execution_count": 25,
   "id": "e9b3afb0",
   "metadata": {},
   "outputs": [
    {
     "data": {
      "text/plain": [
       "0.7854954034729316"
      ]
     },
     "execution_count": 25,
     "metadata": {},
     "output_type": "execute_result"
    }
   ],
   "source": [
    "# Test accuracy\n",
    "get_accuracy(y_test, test_genre)"
   ]
  },
  {
   "cell_type": "markdown",
   "id": "85e7311b",
   "metadata": {},
   "source": [
    "# Test with Modified Audio Files"
   ]
  },
  {
   "cell_type": "code",
   "execution_count": 26,
   "id": "7f630bc2",
   "metadata": {},
   "outputs": [],
   "source": [
    "extractor = utils.FeatureExtractor()"
   ]
  },
  {
   "cell_type": "code",
   "execution_count": 27,
   "id": "82c21568",
   "metadata": {},
   "outputs": [],
   "source": [
    "distorted_classical_00005 = extractor.process_music(\"distorted_classical.00005.wav\",15,3)[selected_features]\n",
    "distorted_classical_00030 = extractor.process_music(\"distorted_classical.00030.wav\",15,3)[selected_features]\n",
    "distorted_classical_00048 = extractor.process_music(\"distorted_classical.00048.wav\",15,3)[selected_features]\n",
    "reversed_classical_00005 = extractor.process_music(\"reversed_classical.00005.wav\",12,3)[selected_features]\n",
    "reversed_classical_00030 = extractor.process_music(\"reversed_classical.00030.wav\",12,3)[selected_features]\n",
    "reversed_classical_00048 = extractor.process_music(\"reversed_classical.00048.wav\")[selected_features]\n",
    "\n",
    "distorted_metal_00000 = extractor.process_music(\"distorted_metal.00000.wav\",15,3)[selected_features]\n",
    "distorted_metal_00001 = extractor.process_music(\"distorted_metal.00001.wav\",15,3)[selected_features]\n",
    "distorted_metal_00014 = extractor.process_music(\"distorted_metal.00014.wav\",15,3)[selected_features]\n",
    "reversed_metal_00001 = extractor.process_music(\"reversed_metal.00001.wav\",12,3)[selected_features]\n",
    "reversed_metal_00001 = extractor.process_music(\"reversed_metal.00001.wav\",12,3)[selected_features]\n",
    "reversed_metal_00014 = extractor.process_music(\"reversed_metal.00014.wav\",12,3)[selected_features]"
   ]
  },
  {
   "cell_type": "markdown",
   "id": "7d2abdfa",
   "metadata": {},
   "source": [
    "Distorted classical audio files are often misidentified as metal because of the resemblance of waveforms between distorted effect and metal. On the other hand, reversal did not change the characteristics of the original waveform. Thereofore, the audio can be correctly categorized."
   ]
  },
  {
   "cell_type": "code",
   "execution_count": 28,
   "id": "8d841e30",
   "metadata": {
    "scrolled": false
   },
   "outputs": [
    {
     "name": "stdout",
     "output_type": "stream",
     "text": [
      "classical\n",
      "metal\n",
      "metal\n",
      "classical\n",
      "classical\n",
      "classical\n"
     ]
    }
   ],
   "source": [
    "print(figure_genre(trained_A, distorted_classical_00005.values[0])[0])\n",
    "print(figure_genre(trained_A, distorted_classical_00030.values[0])[0])\n",
    "print(figure_genre(trained_A, distorted_classical_00048.values[0])[0])\n",
    "print(figure_genre(trained_A, reversed_classical_00005.values[0])[0])\n",
    "print(figure_genre(trained_A, reversed_classical_00030.values[0])[0])\n",
    "print(figure_genre(trained_A, reversed_classical_00048.values[0])[0])"
   ]
  },
  {
   "cell_type": "code",
   "execution_count": 29,
   "id": "5660f85a",
   "metadata": {},
   "outputs": [
    {
     "name": "stdout",
     "output_type": "stream",
     "text": [
      "metal\n",
      "metal\n",
      "metal\n",
      "metal\n",
      "metal\n",
      "metal\n"
     ]
    }
   ],
   "source": [
    "print(figure_genre(trained_A, distorted_metal_00000.values[0])[0])\n",
    "print(figure_genre(trained_A, distorted_metal_00001.values[0])[0])\n",
    "print(figure_genre(trained_A, distorted_metal_00014.values[0])[0])\n",
    "print(figure_genre(trained_A, reversed_metal_00001.values[0])[0])\n",
    "print(figure_genre(trained_A, reversed_metal_00001.values[0])[0])\n",
    "print(figure_genre(trained_A, reversed_metal_00014.values[0])[0])"
   ]
  }
 ],
 "metadata": {
  "kernelspec": {
   "display_name": "Python [conda env:myenv]",
   "language": "python",
   "name": "conda-env-myenv-py"
  },
  "language_info": {
   "codemirror_mode": {
    "name": "ipython",
    "version": 3
   },
   "file_extension": ".py",
   "mimetype": "text/x-python",
   "name": "python",
   "nbconvert_exporter": "python",
   "pygments_lexer": "ipython3",
   "version": "3.10.13"
  }
 },
 "nbformat": 4,
 "nbformat_minor": 5
}
